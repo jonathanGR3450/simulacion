{
 "cells": [
  {
   "cell_type": "markdown",
   "metadata": {},
   "source": [
    "## 2do Parcial - Simulación Computacional 2019-II"
   ]
  },
  {
   "cell_type": "markdown",
   "metadata": {},
   "source": [
    "## 1.  (1.25 punto)\n",
    "En simulación de eventos discretos ¿Cómo es el tipo de evolución del tiempo en el mecanismo del reloj?\n",
    "\n",
    "    a. Asincrónica\n",
    "    b. Sincrónica\n",
    "    c. Continua"
   ]
  },
  {
   "cell_type": "markdown",
   "metadata": {},
   "source": [
    "_Rta.:_\n",
    "\n",
    "    a. Asincrónica"
   ]
  },
  {
   "cell_type": "markdown",
   "metadata": {},
   "source": [
    "## 2.  (1.25 punto)\n",
    "¿Cuáles son los tres tipos de variables en simulación de eventos discretos?\n",
    "\n",
    "    a. Estado del sistema, endógenas y exógenas\n",
    "    b. Tiempo, estado del sistema, tasa de llegada.\n",
    "    c. Tiempo, conteo y estado del sistema"
   ]
  },
  {
   "cell_type": "markdown",
   "metadata": {},
   "source": [
    "_Rta.:_\n",
    "\n",
    "    c. Tiempo, conteo y estado del sistema"
   ]
  },
  {
   "cell_type": "markdown",
   "metadata": {},
   "source": [
    "## 3.  (1.25 punto)\n",
    "Se tiene un sistema de línea de espera con un servidor y capacidad infinita (Modelo de Colas G/G/1) (Ver [Presentación](https://docs.google.com/presentation/d/17sB_GJVIu0vJYJXovaJNdLuBMENwHMW2L9Sa58P89Uw) ), en el cual tanto los tiempos de llegada entre clientes, así como los tiempos de atención del servidor se comportan como  variables aleatorias generadas de distribuciones de probabilidad exponenciales, en donde en promedio llegan A clientes por minuto al sistema y el servidor atiende en promedio B clientes por minuto. La simulación inicia en el tiempo $t=0$ y se deja de permitir el ingreso de mas clientes en el sistema en el tiempo $T=200$.\n",
    "\n",
    "Para analizar el sistema Ud. debe usar la implementación de acuerdo con el Modelo de Colas G/G/1 visto en clase (diapositivas 42 y 43 [Presentación](https://docs.google.com/presentation/d/17sB_GJVIu0vJYJXovaJNdLuBMENwHMW2L9Sa58P89Uw) ). \n",
    "\n",
    "Para la generación de las variables aleatorias con distribución exponencial debe usar el método de la inversión para variables aleatorias continuas usando generadores congruenciales mixtos. _Ayuda: El método de inversión para variables aleatorias continuas debe usar la función inversa $F^{-1}(p)$ de la distribución de probabilidad acumulada de la distribución exponencial en donde el valor $p$ proviene del generador congruencial mixto_.\n",
    "\n",
    "Para la generación de las variables aleatorias de los tiempos entre las llegadas de clientes (variable aleatoria $X$) debe generar variables aleatorias continuas de una distribución exponencial con $\\lambda = A$ a partir de un generador congruencial Turbo Pascal (i.e. $a = 134775813$, $c = 1$, $m=2^{32}$) y semilla $X_0 = 2022020$.\n",
    "\n",
    "Para la generación de las variables aleatorias de los tiempos de atención del servidor (variable aleatoria $Y$) debe generar variables aleatorias continuas de una distribución exponencial con $\\lambda = B$ a partir de un generador congruencial Microsoft Visual Basic (i.e. $a = 1140671485$, $c = 12820163$, $m=2^{24}$) y semilla $X_0 = 1234567890$.\n",
    "\n",
    "Con su implementación para $A=6$ y $B=9$ por favor responda lo siguiente:\n",
    "\n",
    "    a. Tiempo promedio de los clientes en el sistema.\n",
    "    b. Tiempo promedio de los clientes en la cola.\n",
    "    c. Tiempo transcurrido desde $T$ hasta que el último cliente abandona el sistema.\n",
    "    d. Número máximo de clientes en el sistema durante la simulación."
   ]
  },
  {
   "cell_type": "code",
   "execution_count": 12,
   "metadata": {},
   "outputs": [],
   "source": [
    "%matplotlib inline \n",
    "\n",
    "import numpy as np\n",
    "import math\n",
    "import matplotlib.pyplot as plt\n",
    "\n",
    "Xant1 = 2022020\n",
    "Xant2 = 1234567890\n",
    "\n",
    "M = 99999.0\n",
    "T = 200.0\n",
    "at = []\n",
    "an = []\n",
    "LLt = []\n",
    "St = []\n",
    "\n",
    "def gencongru1(): \n",
    "    global Xant1\n",
    "    a = 134775813\n",
    "    c = 1\n",
    "    m = 2**32\n",
    "    Xnext = (a * Xant1 + c) % m\n",
    "    Xant1 = Xnext\n",
    "    U = Xnext / m\n",
    "    return U\n",
    "\n",
    "def gencongru2():\n",
    "    global Xant2\n",
    "    a = 1140671485\n",
    "    c = 12820163\n",
    "    m = 2**24\n",
    "    Xnext = (a * Xant2 + c) % m\n",
    "    Xant2 = Xnext\n",
    "    U = Xnext / m\n",
    "    return U\n",
    "\n",
    "def GenerarX():\n",
    "    vlambda = 6\n",
    "    U = gencongru1()\n",
    "    X = -(math.log(1-U))/float(vlambda)\n",
    "    return X\n",
    "\n",
    "def GenerarY():\n",
    "    vlambda = 9\n",
    "    U = gencongru2()\n",
    "    Y = -(math.log(1-U))/float(vlambda)\n",
    "    return Y\n",
    "\n",
    "def Llegada(tsuc):\n",
    "    global n, NLL, NS, t, S, Serv, LL, at, an\n",
    "    t=tsuc\n",
    "    n = n + 1\n",
    "    LLt.append(t)\n",
    "    at.append(t)\n",
    "    an.append(n)\n",
    "    \n",
    "    NLL = NLL + 1\n",
    "    LL.append(t)\n",
    "    \n",
    "    X = GenerarX()\n",
    "    \n",
    "    if (t+X) < T:\n",
    "        TSuc['tLL'] = t + X\n",
    "    if n==1:\n",
    "        Y = GenerarY()\n",
    "        TSuc['tS'] = t + Y\n",
    "        #Serv[NS]=Y \n",
    "        Serv.append(Y)\n",
    "        \n",
    "def Servidor(tsuc):\n",
    "    global n, NLL, NS, t, S, Serv, LL, at, an\n",
    "    t = tsuc\n",
    "    n = n - 1\n",
    "    \n",
    "    St.append(t)\n",
    "    at.append(t)\n",
    "    an.append(n)\n",
    "    \n",
    "    NS = NS + 1\n",
    "    S.append(t)\n",
    "\n",
    "    if n>0:\n",
    "        Y = GenerarY()\n",
    "        TSuc['tS'] = t + Y\n",
    "        Serv.append(Y) \n",
    "    \n",
    "t = tsuc = NLL = NS = n = 0\n",
    "\n",
    "at.append(t)\n",
    "an.append(n)\n",
    "\n",
    "TSuc = {\"tLL\":M, \"tS\":M}\n",
    "\n",
    "LL = []\n",
    "S = []\n",
    "Serv = []\n",
    "LL.append(0.0)\n",
    "S.append(0.0)\n",
    "Serv.append(0.0)\n",
    "\n",
    "X = GenerarX()\n",
    "\n",
    "if X > T:\n",
    "    Tp = t_med_sistema = t_med_cola = 0.0\n",
    "    exit\n",
    "else:\n",
    "    Llegada(X)\n",
    "    while((TSuc['tLL'] != M)|(TSuc['tS']!=M)):\n",
    "        if TSuc['tLL'] < TSuc['tS']:\n",
    "            tsuc = TSuc['tLL']\n",
    "            TSuc['tLL'] = M\n",
    "            Llegada(tsuc)\n",
    "            \n",
    "        if TSuc['tS'] < TSuc['tLL']:\n",
    "            tsuc = TSuc['tS']\n",
    "            TSuc['tS'] = M\n",
    "            Servidor(tsuc)\n",
    "\n",
    "    Tp = max(0,t-T)\n",
    "    acumulo1 = acumulo2 = 0.0\n",
    "    ind = 0\n",
    "    \n",
    "    while ind < NLL:\n",
    "        acumulo1 = acumulo1 + S[ind] - LL[ind]\n",
    "        acumulo2 = acumulo2 + S[ind] - LL[ind] - Serv[ind]\n",
    "        ind = ind + 1\n",
    "    t_med_sistema = acumulo1/NLL\n",
    "    t_med_cola = acumulo2/NLL\n",
    "\n",
    "    exit"
   ]
  },
  {
   "cell_type": "code",
   "execution_count": 13,
   "metadata": {},
   "outputs": [
    {
     "data": {
      "image/png": "[encoded data removed]",
      "text/plain": [
       "<Figure size 432x288 with 1 Axes>"
      ]
     },
     "metadata": {
      "needs_background": "light"
     },
     "output_type": "display_data"
    },
    {
     "data": {
      "image/png": "[encoded data removed]",
      "text/plain": [
       "<Figure size 432x288 with 1 Axes>"
      ]
     },
     "metadata": {
      "needs_background": "light"
     },
     "output_type": "display_data"
    },
    {
     "data": {
      "image/png": "[encoded data removed]",
      "text/plain": [
       "<Figure size 432x288 with 1 Axes>"
      ]
     },
     "metadata": {
      "needs_background": "light"
     },
     "output_type": "display_data"
    },
    {
     "name": "stdout",
     "output_type": "stream",
     "text": [
      "Tiempo medio de los clientes en el sistema:  0.45879732349915964\n",
      "Tiempo medio de los clientes en la cola:  0.3417052652115768\n",
      "Tiempo transcurrido desde T hasta que el último cliente abandona el sistema:  0\n",
      "Número máximo de clientes en el sistema:  18\n",
      "Total de clientes que pasaron por el sistema:  1211\n"
     ]
    }
   ],
   "source": [
    "at = np.array(at)\n",
    "an = np.array(an)\n",
    "\n",
    "LLt = np.array(LLt)\n",
    "St = np.array(St)\n",
    "\n",
    "tmp = np.zeros((len(LLt)))+1\n",
    "\n",
    "plt.plot(LLt, tmp, 'r.')\n",
    "plt.xlim(0, max(at))\n",
    "plt.show()\n",
    "\n",
    "tmp = np.zeros((len(St)))+1\n",
    "\n",
    "plt.plot(St, tmp, 'b.')\n",
    "plt.xlim(0, max(at))\n",
    "plt.show()\n",
    "\n",
    "plt.plot(at,an)\n",
    "plt.xlabel('tiempo (t)')\n",
    "plt.ylabel('numero de clientes en el sistema (n)')\n",
    "plt.show()\n",
    "\n",
    "print(\"Tiempo medio de los clientes en el sistema: \",t_med_sistema)\n",
    "print(\"Tiempo medio de los clientes en la cola: \",t_med_cola)\n",
    "print(\"Tiempo transcurrido desde T hasta que el último cliente abandona el sistema: \",Tp)\n",
    "print(\"Número máximo de clientes en el sistema: \",max(an))\n",
    "print(\"Total de clientes que pasaron por el sistema: \",NLL)"
   ]
  },
  {
   "cell_type": "markdown",
   "metadata": {},
   "source": [
    "## 4.\n",
    "Usando el siguiente código basado en el ejemplo de \"Movie Renege\" de Simpy (https://simpy.readthedocs.io/en/latest/examples/movie_renege.html), modifique el código para que cumpla las siguientes condiciones:\n",
    "\n",
    "    - El máximo número de personas por película sea de 45\n",
    "    - El tiempo de simulación sea de 105 minutos\n",
    "    - Si quedan menos de 3 tiquetes despues de una compra de tiquete, la señal de agotado será activada \n",
    "    - Disminuya de 30 a 24 segundos el tiempo que discuten los asistentes al cine que estan en la fila cuando aparece el aviso de agotado.\n",
    "    - Los asistentes al cine llegan en tiempos aleatorios e intentan comprar un numero aleatorio de tiquetes entre 1 a 8  \n",
    "\n",
    "Ejecute la versión modifica y responda:\n",
    "\n",
    "    a. ¿Cuántas personas abandonan la fila luego de que los tiquetes para la película \"Bad Boys para siempre\" estan agotados?\n",
    "    b. ¿Cuánto tiempo paso desde la apertura del mostrador hasta que se agotaron los tiquetes para la película \"Parásito\"?\n",
    "    c. ¿Cuál fue la primera película en agotarse?"
   ]
  },
  {
   "cell_type": "markdown",
   "metadata": {},
   "source": [
    "_Rta.:_\n",
    "\n",
    "    a. 5\n",
    "    b. 35.9\n",
    "    c. \"Jumanji: El siguiente nivel\""
   ]
  },
  {
   "cell_type": "code",
   "execution_count": 10,
   "metadata": {},
   "outputs": [
    {
     "name": "stdout",
     "output_type": "stream",
     "text": [
      "Requirement already satisfied: simpy in /Users/angelcruz-roa/anaconda3/lib/python3.6/site-packages (3.0.11)\r\n"
     ]
    }
   ],
   "source": [
    "!pip install simpy"
   ]
  },
  {
   "cell_type": "code",
   "execution_count": 14,
   "metadata": {},
   "outputs": [
    {
     "name": "stdout",
     "output_type": "stream",
     "text": [
      "Abandono de pelicula\n",
      "La película \"Bad Boys para siempre\" se agotó 34.1 minutos después de la apertura del mostrador.\n",
      "  Numero de gente dejando la fila cuando la pelicula esta agotada: 5\n",
      "La película \"Parásito\" se agotó 35.9 minutos después de la apertura del mostrador.\n",
      "  Numero de gente dejando la fila cuando la pelicula esta agotada: 11\n",
      "La película \"Jumanji: El siguiente nivel\" se agotó 31.3 minutos después de la apertura del mostrador.\n",
      "  Numero de gente dejando la fila cuando la pelicula esta agotada: 4\n"
     ]
    }
   ],
   "source": [
    "\"\"\"\n",
    "Movie renege example\n",
    "\n",
    "Covers:\n",
    "\n",
    "- Resources: Resource\n",
    "- Condition events\n",
    "- Shared events\n",
    "\n",
    "Scenario:\n",
    "  A movie theatre has one ticket counter selling tickets for three\n",
    "  movies (next show only). When a movie is sold out, all people waiting\n",
    "  to buy tickets for that movie renege (leave queue).\n",
    "\n",
    "\"\"\"\n",
    "import collections\n",
    "import random\n",
    "\n",
    "import simpy\n",
    "\n",
    "\n",
    "RANDOM_SEED = 2020\n",
    "TICKETS = 45  \n",
    "SIM_TIME = 105 \n",
    "\n",
    "\n",
    "def moviegoer(env, movie, num_tickets, theater):\n",
    "    \"\"\"A moviegoer tries to by a number of tickets (*num_tickets*) for\n",
    "    a certain *movie* in a *theater*.\n",
    "\n",
    "    If the movie becomes sold out, she leaves the theater. If she gets\n",
    "    to the counter, she tries to buy a number of tickets. If not enough\n",
    "    tickets are left, she argues with the teller and leaves.\n",
    "\n",
    "    If at most one ticket is left after the moviegoer bought her\n",
    "    tickets, the *sold out* event for this movie is triggered causing\n",
    "    all remaining moviegoers to leave.\n",
    "\n",
    "    \"\"\"\n",
    "    with theater.counter.request() as my_turn:\n",
    "        # Wait until its our turn or until the movie is sold out\n",
    "        result = yield my_turn | theater.sold_out[movie]\n",
    "\n",
    "        # Check if it's our turn of if movie is sold out\n",
    "        if my_turn not in result:\n",
    "            theater.num_renegers[movie] += 1\n",
    "            env.exit()\n",
    "\n",
    "        # Check if enough tickets left.\n",
    "        if theater.available[movie] < num_tickets:\n",
    "            # Moviegoer leaves after some discussion\n",
    "            yield env.timeout(0.4)\n",
    "            env.exit()\n",
    "\n",
    "        # Buy tickets\n",
    "        theater.available[movie] -= num_tickets\n",
    "        if theater.available[movie] < 3:\n",
    "            # Trigger the \"sold out\" event for the movie\n",
    "            theater.sold_out[movie].succeed()\n",
    "            theater.when_sold_out[movie] = env.now\n",
    "            theater.available[movie] = 0\n",
    "        yield env.timeout(1)\n",
    "\n",
    "\n",
    "def customer_arrivals(env, theater):\n",
    "    \"\"\"Create new *moviegoers* until the sim time reaches 120.\"\"\"\n",
    "    while True:\n",
    "        yield env.timeout(random.expovariate(1 / 0.5))\n",
    "\n",
    "        movie = random.choice(theater.movies)\n",
    "        num_tickets = random.randint(1, 8)\n",
    "        if theater.available[movie]:\n",
    "            env.process(moviegoer(env, movie, num_tickets, theater))\n",
    "\n",
    "\n",
    "Theater = collections.namedtuple('Theater', 'counter, movies, available, '\n",
    "                                            'sold_out, when_sold_out, '\n",
    "                                            'num_renegers')\n",
    "\n",
    "\n",
    "# Setup and start the simulation\n",
    "print('Abandono de pelicula')\n",
    "random.seed(RANDOM_SEED)\n",
    "env = simpy.Environment()\n",
    "\n",
    "# Create movie theater\n",
    "counter = simpy.Resource(env, capacity=1)\n",
    "movies = ['Bad Boys para siempre', 'Parásito', 'Jumanji: El siguiente nivel']\n",
    "available = {movie: TICKETS for movie in movies}\n",
    "sold_out = {movie: env.event() for movie in movies}\n",
    "when_sold_out = {movie: None for movie in movies}\n",
    "num_renegers = {movie: 0 for movie in movies}\n",
    "theater = Theater(counter, movies, available, sold_out, when_sold_out,\n",
    "                  num_renegers)\n",
    "\n",
    "# Start process and run\n",
    "env.process(customer_arrivals(env, theater))\n",
    "env.run(until=SIM_TIME)\n",
    "\n",
    "# Analysis/results\n",
    "for movie in movies:\n",
    "    if theater.sold_out[movie]:\n",
    "        print('La película \"%s\" se agotó %.1f minutos después de la apertura del '\n",
    "              'mostrador.' % (movie, theater.when_sold_out[movie]))\n",
    "        print('  Numero de gente dejando la fila cuando la pelicula esta agotada: %s' %\n",
    "              theater.num_renegers[movie])"
   ]
  },
  {
   "cell_type": "code",
   "execution_count": null,
   "metadata": {},
   "outputs": [],
   "source": []
  }
 ],
 "metadata": {
  "kernelspec": {
   "display_name": "Python 3",
   "language": "python",
   "name": "python3"
  },
  "language_info": {
   "codemirror_mode": {
    "name": "ipython",
    "version": 3
   },
   "file_extension": ".py",
   "mimetype": "text/x-python",
   "name": "python",
   "nbconvert_exporter": "python",
   "pygments_lexer": "ipython3",
   "version": "3.6.5"
  }
 },
 "nbformat": 4,
 "nbformat_minor": 2
}
