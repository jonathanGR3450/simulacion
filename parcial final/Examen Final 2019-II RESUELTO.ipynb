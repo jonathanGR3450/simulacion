{
 "cells": [
  {
   "cell_type": "markdown",
   "metadata": {},
   "source": [
    "## Examen Final - Simulación Computacional 2019-II"
   ]
  },
  {
   "cell_type": "code",
   "execution_count": 2,
   "metadata": {},
   "outputs": [],
   "source": [
    "import numpy as np\n",
    "import scipy as sp\n",
    "\n",
    "def genran(a,b,m,xant):\n",
    "    xsig = (a*xant + b) % m\n",
    "    usig = xsig / m\n",
    "    return [xsig,usig]\n",
    "\n",
    "def genranN(a,b,m,x0,N):\n",
    "    xant = x0\n",
    "    I=[]\n",
    "    X=[]\n",
    "    U=[]\n",
    "    for t in range(1, N+1):\n",
    "        [xi,ui] = genran(a,b,m,xant)\n",
    "        I.append(t)\n",
    "        X.append(xi)\n",
    "        U.append(ui)\n",
    "        xant = xi\n",
    "    return [I,X,U]\n",
    "\n",
    "def genvardiscret(U,X,P):\n",
    "    V = []\n",
    "    for t in range(0, len(U)):\n",
    "        for t2 in range(0, len(X)):\n",
    "            if U[t]<=P[t2]:\n",
    "                V.append(X[t2])\n",
    "                break\n",
    "    return V\n",
    "\n",
    "def tam_ciclo(values):\n",
    "    tam = 1\n",
    "    max_len = int(len(values) / 2)\n",
    "    for ii in range(2, max_len):\n",
    "        if (values[0:ii] == values[ii:2*ii]).any() :\n",
    "            return ii\n",
    "    \n",
    "    return tam\n",
    "\n",
    "def showValues(I,X,U):\n",
    "    print(\"i\\tXi\\tUi\")\n",
    "    for t in range(0, len(X)):\n",
    "        print(\"%d\\t%d\\t%2.4f\" % (I[t],X[t],U[t]), sep=' ', end='\\n')"
   ]
  },
  {
   "cell_type": "markdown",
   "metadata": {},
   "source": [
    "## 1.\n",
    "Si $x_0=137$ y\n",
    "$$x_n = (15x_{n-1}+3) \\mod 21$$\n",
    "\n",
    "**a)** encuentre $x_1,...,x_{100}$"
   ]
  },
  {
   "cell_type": "code",
   "execution_count": 3,
   "metadata": {},
   "outputs": [
    {
     "name": "stdout",
     "output_type": "stream",
     "text": [
      "i\tXi\tUi\n",
      "1\t0\t0.0000\n",
      "2\t3\t0.1429\n",
      "3\t6\t0.2857\n",
      "4\t9\t0.4286\n",
      "5\t12\t0.5714\n",
      "6\t15\t0.7143\n",
      "7\t18\t0.8571\n",
      "8\t0\t0.0000\n",
      "9\t3\t0.1429\n",
      "10\t6\t0.2857\n",
      "11\t9\t0.4286\n",
      "12\t12\t0.5714\n",
      "13\t15\t0.7143\n",
      "14\t18\t0.8571\n",
      "15\t0\t0.0000\n",
      "16\t3\t0.1429\n",
      "17\t6\t0.2857\n",
      "18\t9\t0.4286\n",
      "19\t12\t0.5714\n",
      "20\t15\t0.7143\n",
      "21\t18\t0.8571\n",
      "22\t0\t0.0000\n",
      "23\t3\t0.1429\n",
      "24\t6\t0.2857\n",
      "25\t9\t0.4286\n",
      "26\t12\t0.5714\n",
      "27\t15\t0.7143\n",
      "28\t18\t0.8571\n",
      "29\t0\t0.0000\n",
      "30\t3\t0.1429\n",
      "31\t6\t0.2857\n",
      "32\t9\t0.4286\n",
      "33\t12\t0.5714\n",
      "34\t15\t0.7143\n",
      "35\t18\t0.8571\n",
      "36\t0\t0.0000\n",
      "37\t3\t0.1429\n",
      "38\t6\t0.2857\n",
      "39\t9\t0.4286\n",
      "40\t12\t0.5714\n",
      "41\t15\t0.7143\n",
      "42\t18\t0.8571\n",
      "43\t0\t0.0000\n",
      "44\t3\t0.1429\n",
      "45\t6\t0.2857\n",
      "46\t9\t0.4286\n",
      "47\t12\t0.5714\n",
      "48\t15\t0.7143\n",
      "49\t18\t0.8571\n",
      "50\t0\t0.0000\n",
      "51\t3\t0.1429\n",
      "52\t6\t0.2857\n",
      "53\t9\t0.4286\n",
      "54\t12\t0.5714\n",
      "55\t15\t0.7143\n",
      "56\t18\t0.8571\n",
      "57\t0\t0.0000\n",
      "58\t3\t0.1429\n",
      "59\t6\t0.2857\n",
      "60\t9\t0.4286\n",
      "61\t12\t0.5714\n",
      "62\t15\t0.7143\n",
      "63\t18\t0.8571\n",
      "64\t0\t0.0000\n",
      "65\t3\t0.1429\n",
      "66\t6\t0.2857\n",
      "67\t9\t0.4286\n",
      "68\t12\t0.5714\n",
      "69\t15\t0.7143\n",
      "70\t18\t0.8571\n",
      "71\t0\t0.0000\n",
      "72\t3\t0.1429\n",
      "73\t6\t0.2857\n",
      "74\t9\t0.4286\n",
      "75\t12\t0.5714\n",
      "76\t15\t0.7143\n",
      "77\t18\t0.8571\n",
      "78\t0\t0.0000\n",
      "79\t3\t0.1429\n",
      "80\t6\t0.2857\n",
      "81\t9\t0.4286\n",
      "82\t12\t0.5714\n",
      "83\t15\t0.7143\n",
      "84\t18\t0.8571\n",
      "85\t0\t0.0000\n",
      "86\t3\t0.1429\n",
      "87\t6\t0.2857\n",
      "88\t9\t0.4286\n",
      "89\t12\t0.5714\n",
      "90\t15\t0.7143\n",
      "91\t18\t0.8571\n",
      "92\t0\t0.0000\n",
      "93\t3\t0.1429\n",
      "94\t6\t0.2857\n",
      "95\t9\t0.4286\n",
      "96\t12\t0.5714\n",
      "97\t15\t0.7143\n",
      "98\t18\t0.8571\n",
      "99\t0\t0.0000\n",
      "100\t3\t0.1429\n"
     ]
    }
   ],
   "source": [
    "a = 15.0\n",
    "b = 3.0\n",
    "m = 21.0\n",
    "x0 = 137.0\n",
    "N = 100\n",
    "[I,X,U] = genranN(a,b,m,x0,N)\n",
    "showValues(I,X,U)"
   ]
  },
  {
   "cell_type": "markdown",
   "metadata": {},
   "source": [
    "**b)** el tamaño del ciclo (si lo tiene)"
   ]
  },
  {
   "cell_type": "code",
   "execution_count": 4,
   "metadata": {},
   "outputs": [
    {
     "name": "stdout",
     "output_type": "stream",
     "text": [
      "El tamaño del ciclo es: 7\n"
     ]
    }
   ],
   "source": [
    "print(\"El tamaño del ciclo es: \"+str(tam_ciclo((np.array(X)).astype(int))))"
   ]
  },
  {
   "cell_type": "markdown",
   "metadata": {},
   "source": [
    "**c)** calcule el estadístico $\\chi^2$"
   ]
  },
  {
   "cell_type": "code",
   "execution_count": 12,
   "metadata": {},
   "outputs": [
    {
     "data": {
      "image/png": "[encoded data removed]",
      "text/plain": [
       "<Figure size 432x288 with 1 Axes>"
      ]
     },
     "metadata": {
      "needs_background": "light"
     },
     "output_type": "display_data"
    },
    {
     "name": "stdout",
     "output_type": "stream",
     "text": [
      "Estadístico chi2 = 1330.0\n",
      "1330.0\n"
     ]
    }
   ],
   "source": [
    "import matplotlib.pyplot as plt\n",
    "from scipy import stats\n",
    "\n",
    "k=100\n",
    "count, bins, ignored = plt.hist(U, k, normed=False)\n",
    "plt.plot(bins, np.ones_like(bins)*(N/k), linewidth=2, color='r')\n",
    "plt.show()\n",
    "\n",
    "chiest=0\n",
    "for i in range(0,k):\n",
    "    chiest = chiest + ((count[i]-(N/k))**2)/(N/k)\n",
    "print(\"Estadístico chi2 = \"+str(chiest))\n",
    "\n",
    "chisq, pvalue = stats.chisquare(count, f_exp=np.ones_like(count)*(N/k))\n",
    "print(chisq)"
   ]
  },
  {
   "cell_type": "markdown",
   "metadata": {},
   "source": [
    "## 2.\n",
    "Dados los siguientes valores de la distribución de probabilidad discreta de la variable aleatoria $X$ de un dado de 12 lados: $X = {1,2,3,4,5,6,7,8,9,10,11,12}$, $p(X) = {0.06,0.05,0.05,0.04,0.02,0.02,0.05,0.07,0.2,0.25,0.1,0.09}$, ¿Qué valores retornaría el generador de variables aleatorias por el método de la inversión si los números aleatorios generados son: $U = {0.6996, 0.0318, 0.6344, 0.1708, 0.6865, 0.1573, 0.9454, 0.8211, 0.9102, 0.2579}$?"
   ]
  },
  {
   "cell_type": "code",
   "execution_count": 6,
   "metadata": {},
   "outputs": [
    {
     "name": "stdout",
     "output_type": "stream",
     "text": [
      "Ui =  [0.6996, 0.0318, 0.6344, 0.1708, 0.6865, 0.1573, 0.9454, 0.8211, 0.9102, 0.2579]\n",
      "X_i =  [1, 2, 3, 4, 5, 6, 7, 8, 9, 10, 11, 12]\n",
      "P(X_i) =  [0.06 0.11 0.16 0.2  0.22 0.24 0.29 0.36 0.56 0.81 0.91 1.  ]\n",
      "\n",
      "Los valores aleatorios generados del dado de 13 lados serían:\n",
      "[10, 1, 10, 4, 10, 3, 12, 11, 12, 7]\n"
     ]
    }
   ],
   "source": [
    "U = [0.6996, 0.0318, 0.6344, 0.1708, 0.6865, 0.1573, 0.9454, 0.8211, 0.9102, 0.2579]\n",
    "X = [1,2,3,4,5,6,7,8,9,10,11,12]\n",
    "p = [0.06,0.05,0.05,0.04,0.02,0.02,0.05,0.07,0.2,0.25,0.1,0.09]\n",
    "\n",
    "P = np.cumsum(p) # Distribución acumulada de la distribución de probabilidad p\n",
    "\n",
    "print(\"Ui = \",U)\n",
    "print(\"X_i = \",X)\n",
    "print(\"P(X_i) = \",P)\n",
    "\n",
    "V=genvardiscret(U,X,P)\n",
    "\n",
    "print(\"\\nLos valores aleatorios generados del dado de 13 lados serían:\")\n",
    "print(V)"
   ]
  },
  {
   "cell_type": "markdown",
   "metadata": {},
   "source": [
    "## 3.\n",
    "\n",
    "Dada la función $f(x) = sin(x) + 3x^2 - 2x + 1$:\n",
    "\n",
    "1. Calcule el área bajo la curva usando el método de Monte Carlo generando 1.000 y 100.000 puntos $(x,y)$ aleatorios. Para ello use sus propios generadores congruenciales de numeros pseudoaleatorios uniformes $U(0,1)$, tal que genere puntos $(x,y)$ para el rango $x = [-1,1]$ y $y =[0,max(f(x))]$.\n",
    "2. Grafique la función y los puntos $(x,y)$ aleatorios generados.\n",
    "3. Calcule el error en comparación con el valor de la solución analítica."
   ]
  },
  {
   "cell_type": "code",
   "execution_count": 2,
   "metadata": {},
   "outputs": [
    {
     "name": "stdout",
     "output_type": "stream",
     "text": [
      "Area bajo la curva = 4.01261337975733\n"
     ]
    }
   ],
   "source": [
    "# Metodo de monte carlo para calcular el area bajo la curva de la funcion\n",
    "%matplotlib inline \n",
    "\n",
    "import math\n",
    "import random\n",
    "import numpy as np\n",
    "import matplotlib.pyplot as plt\n",
    "\n",
    "def f(x):\n",
    "    return math.sin(x) + 3*math.pow(x,2)- 2*x + 1\n",
    "\n",
    "xmin = -1.0\n",
    "xmax = 1.0\n",
    "\n",
    "# Encuentra el ymax\n",
    "numPasos = 1000\n",
    "ymin = 0\n",
    "ymax = ymin\n",
    "for i in range(numPasos):\n",
    "    x = xmin + (xmax - xmin) * float(i) / numPasos\n",
    "    y = f(x)\n",
    "    if y < ymin: ymin = y\n",
    "    if y > ymax: ymax = y\n",
    "\n",
    "        \n",
    "# Monte Carlo\n",
    "rectArea = (xmax - xmin) * (ymax - ymin)\n",
    "numPuntos = 100000\n",
    "ct = 0\n",
    "\n",
    "Xr=[]\n",
    "Yr=[]\n",
    "Xb=[]\n",
    "Yb=[]\n",
    "\n",
    "for j in range(numPuntos):\n",
    "    x = xmin + (xmax - xmin) * random.random()\n",
    "    y = ymin + (ymax - ymin) * random.random()\n",
    "    ##if f(x) > 0 and y > 0 and y <= f(x):\n",
    "    if x>=-1 and x<=1 and y <= f(x):\n",
    "        ct += 1\n",
    "        Xr.append(x)\n",
    "        Yr.append(y)\n",
    "    else:\n",
    "        Xb.append(x)\n",
    "        Yb.append(y)\n",
    "\n",
    "MCArea = rectArea * float(ct) / numPuntos\n",
    "print(\"Area bajo la curva = \" + str(MCArea))"
   ]
  },
  {
   "cell_type": "code",
   "execution_count": 3,
   "metadata": {},
   "outputs": [
    {
     "name": "stderr",
     "output_type": "stream",
     "text": [
      "/Users/angelcruz-roa/anaconda3/lib/python3.6/site-packages/matplotlib/cbook/__init__.py:1725: UserWarning: Saw kwargs ['lw', 'linewidth'] which are all aliases for 'linewidth'.  Kept value from 'linewidth'\n",
      "  seen=seen, canon=canonical, used=seen[-1]))\n"
     ]
    },
    {
     "data": {
      "image/png": "[encoded data removed]",
      "text/plain": [
       "<Figure size 432x288 with 1 Axes>"
      ]
     },
     "metadata": {
      "needs_background": "light"
     },
     "output_type": "display_data"
    }
   ],
   "source": [
    "# Graficar\n",
    "xx = np.arange(xmin,xmax,(xmax-xmin)/numPasos)\n",
    "yy=[]\n",
    "\n",
    "for xi in xx:\n",
    "    yy.append(f(xi))\n",
    "plt.plot(xx,yy,color=\"black\")\n",
    "plt.plot(Xr, Yr, color=\"red\",linewidth=0, marker='o', lw=1 )\n",
    "plt.plot(Xb, Yb, color=\"blue\",linewidth=0, marker='o', lw=1 )\n",
    "plt.ylim(round(ymin), round(ymax))\n",
    "plt.xlim(xmin, xmax)\n",
    "plt.grid(True) \n",
    "plt.show()"
   ]
  },
  {
   "cell_type": "code",
   "execution_count": 4,
   "metadata": {},
   "outputs": [
    {
     "data": {
      "image/png": "[encoded data removed]",
      "text/latex": [
       "$$\\int_{-1}^{1} \\left(3 x^{2} - 2 x + \\sin{\\left (x \\right )} + 1\\right)\\, dx = 4$$"
      ],
      "text/plain": [
       "1                                  \n",
       "⌠                                  \n",
       "⎮  ⎛   2                   ⎞       \n",
       "⎮  ⎝3⋅x  - 2⋅x + sin(x) + 1⎠ dx = 4\n",
       "⌡                                  \n",
       "-1                                 "
      ]
     },
     "execution_count": 4,
     "metadata": {},
     "output_type": "execute_result"
    }
   ],
   "source": [
    "from sympy import *\n",
    "from sympy import init_printing\n",
    "init_printing() \n",
    "\n",
    "x = Symbol('x')\n",
    "\n",
    "aa=Integral(( sin(x) + 3*x**2 - 2*x + 1), (x, -1, 1))\n",
    "#aa=Integral(( 7*x**4-3*x**2- 2*x + 1), (x, -2, 2))\n",
    "\n",
    "\n",
    "Eq(aa, aa.doit())"
   ]
  },
  {
   "cell_type": "code",
   "execution_count": 5,
   "metadata": {},
   "outputs": [
    {
     "name": "stdout",
     "output_type": "stream",
     "text": [
      "Area estimada usando MC:  4.01261337975733\n",
      "Area calculada a partir de la integral:  4\n",
      "Error:  -0.012613379757329568\n"
     ]
    }
   ],
   "source": [
    "Err = 4 - MCArea\n",
    "print(\"Area estimada usando MC: \", MCArea)\n",
    "print(\"Area calculada a partir de la integral: \", 4)\n",
    "print(\"Error: \",Err)"
   ]
  },
  {
   "cell_type": "markdown",
   "metadata": {},
   "source": [
    "## 4.\n",
    "Usando el siguiente código basado en el ejemplo de \"Movie Renege\" de Simpy (https://simpy.readthedocs.io/en/latest/examples/movie_renege.html), modifique el código para que cumpla las siguientes condiciones:\n",
    "\n",
    "    - El máximo número de personas por película sea de 45\n",
    "    - El tiempo de simulación sea de 105 minutos\n",
    "    - Si quedan menos de 3 tiquetes despues de una compra de tiquete, la señal de agotado será activada \n",
    "    - Disminuya de 30 a 24 segundos el tiempo que discuten los asistentes al cine que estan en la fila cuando aparece el aviso de agotado.\n",
    "    - Los asistentes al cine llegan en tiempos aleatorios e intentan comprar un numero aleatorio de tiquetes entre 1 a 8  \n",
    "\n",
    "Ejecute la versión modifica y responda:\n",
    "\n",
    "    a. ¿Cuántas personas abandonan la fila luego de que los tiquetes para la película \"Bad Boys para siempre\" estan agotados?\n",
    "    b. ¿Cuánto tiempo paso desde la apertura del mostrador hasta que se agotaron los tiquetes para la película \"Parásito\"?\n",
    "    c. ¿Cuál fue la primera película en agotarse?"
   ]
  },
  {
   "cell_type": "markdown",
   "metadata": {},
   "source": [
    "_Rta.:_\n",
    "\n",
    "    a. 8\n",
    "    b. 30.3\n",
    "    c. \"Bad Boys para siempre\""
   ]
  },
  {
   "cell_type": "code",
   "execution_count": 6,
   "metadata": {},
   "outputs": [
    {
     "name": "stdout",
     "output_type": "stream",
     "text": [
      "Requirement already satisfied: simpy in /Users/angelcruz-roa/anaconda3/lib/python3.6/site-packages (3.0.11)\r\n"
     ]
    }
   ],
   "source": [
    "!pip install simpy"
   ]
  },
  {
   "cell_type": "code",
   "execution_count": 11,
   "metadata": {},
   "outputs": [
    {
     "name": "stdout",
     "output_type": "stream",
     "text": [
      "Abandono de pelicula\n",
      "La película \"Bad Boys para siempre\" se agotó 28.9 minutos después de la apertura del mostrador.\n",
      "  Numero de gente dejando la fila cuando la pelicula esta agotada: 8\n",
      "La película \"Parásito\" se agotó 30.3 minutos después de la apertura del mostrador.\n",
      "  Numero de gente dejando la fila cuando la pelicula esta agotada: 9\n",
      "La película \"Jumanji: El siguiente nivel\" se agotó 32.1 minutos después de la apertura del mostrador.\n",
      "  Numero de gente dejando la fila cuando la pelicula esta agotada: 4\n"
     ]
    }
   ],
   "source": [
    "\"\"\"\n",
    "Movie renege example\n",
    "\n",
    "Covers:\n",
    "\n",
    "- Resources: Resource\n",
    "- Condition events\n",
    "- Shared events\n",
    "\n",
    "Scenario:\n",
    "  A movie theatre has one ticket counter selling tickets for three\n",
    "  movies (next show only). When a movie is sold out, all people waiting\n",
    "  to buy tickets for that movie renege (leave queue).\n",
    "\n",
    "\"\"\"\n",
    "import collections\n",
    "import random\n",
    "\n",
    "import simpy\n",
    "\n",
    "\n",
    "RANDOM_SEED = 42\n",
    "TICKETS = 30.3  \n",
    "SIM_TIME = 105 \n",
    "\n",
    "\n",
    "def moviegoer(env, movie, num_tickets, theater):\n",
    "    \"\"\"A moviegoer tries to by a number of tickets (*num_tickets*) for\n",
    "    a certain *movie* in a *theater*.\n",
    "\n",
    "    If the movie becomes sold out, she leaves the theater. If she gets\n",
    "    to the counter, she tries to buy a number of tickets. If not enough\n",
    "    tickets are left, she argues with the teller and leaves.\n",
    "\n",
    "    If at most one ticket is left after the moviegoer bought her\n",
    "    tickets, the *sold out* event for this movie is triggered causing\n",
    "    all remaining moviegoers to leave.\n",
    "\n",
    "    \"\"\"\n",
    "    with theater.counter.request() as my_turn:\n",
    "        # Wait until its our turn or until the movie is sold out\n",
    "        result = yield my_turn | theater.sold_out[movie]\n",
    "\n",
    "        # Check if it's our turn of if movie is sold out\n",
    "        if my_turn not in result:\n",
    "            theater.num_renegers[movie] += 1\n",
    "            env.exit()\n",
    "\n",
    "        # Check if enough tickets left.\n",
    "        if theater.available[movie] < num_tickets:\n",
    "            # Moviegoer leaves after some discussion\n",
    "            yield env.timeout(0.4)\n",
    "            env.exit()\n",
    "\n",
    "        # Buy tickets\n",
    "        theater.available[movie] -= num_tickets\n",
    "        if theater.available[movie] < 3:\n",
    "            # Trigger the \"sold out\" event for the movie\n",
    "            theater.sold_out[movie].succeed()\n",
    "            theater.when_sold_out[movie] = env.now\n",
    "            theater.available[movie] = 0\n",
    "        yield env.timeout(1)\n",
    "\n",
    "\n",
    "def customer_arrivals(env, theater):\n",
    "    \"\"\"Create new *moviegoers* until the sim time reaches 120.\"\"\"\n",
    "    while True:\n",
    "        yield env.timeout(random.expovariate(1 / 0.5))\n",
    "\n",
    "        movie = random.choice(theater.movies)\n",
    "        num_tickets = random.randint(1, 8)\n",
    "        if theater.available[movie]:\n",
    "            env.process(moviegoer(env, movie, num_tickets, theater))\n",
    "\n",
    "\n",
    "Theater = collections.namedtuple('Theater', 'counter, movies, available, '\n",
    "                                            'sold_out, when_sold_out, '\n",
    "                                            'num_renegers')\n",
    "\n",
    "\n",
    "# Setup and start the simulation\n",
    "print('Abandono de pelicula')\n",
    "random.seed(RANDOM_SEED)\n",
    "env = simpy.Environment()\n",
    "\n",
    "# Create movie theater\n",
    "counter = simpy.Resource(env, capacity=1)\n",
    "movies = ['Bad Boys para siempre', 'Parásito', 'Jumanji: El siguiente nivel']\n",
    "available = {movie: TICKETS for movie in movies}\n",
    "sold_out = {movie: env.event() for movie in movies}\n",
    "when_sold_out = {movie: None for movie in movies}\n",
    "num_renegers = {movie: 0 for movie in movies}\n",
    "theater = Theater(counter, movies, available, sold_out, when_sold_out,\n",
    "                  num_renegers)\n",
    "\n",
    "# Start process and run\n",
    "env.process(customer_arrivals(env, theater))\n",
    "env.run(until=SIM_TIME)\n",
    "\n",
    "# Analysis/results\n",
    "for movie in movies:\n",
    "    if theater.sold_out[movie]:\n",
    "        print('La película \"%s\" se agotó %.1f minutos después de la apertura del '\n",
    "              'mostrador.' % (movie, theater.when_sold_out[movie]))\n",
    "        print('  Numero de gente dejando la fila cuando la pelicula esta agotada: %s' %\n",
    "              theater.num_renegers[movie])"
   ]
  },
  {
   "cell_type": "markdown",
   "metadata": {},
   "source": [
    "## 5.  \n",
    "Se tiene un sistema de línea de espera con un servidor y capacidad infinita (Modelo de Colas G/G/1) (Ver [Presentación](https://docs.google.com/presentation/d/17sB_GJVIu0vJYJXovaJNdLuBMENwHMW2L9Sa58P89Uw) ), en el cual tanto los tiempos de llegada entre clientes, así como los tiempos de atención del servidor se comportan como  variables aleatorias generadas de distribuciones de probabilidad exponenciales, en donde en promedio llegan A clientes por minuto al sistema y el servidor atiende en promedio B clientes por minuto. La simulación inicia en el tiempo $t=0$ y se deja de permitir el ingreso de mas clientes en el sistema en el tiempo $T=100$.\n",
    "\n",
    "Para analizar el sistema Ud. debe usar la implementación de acuerdo con el Modelo de Colas G/G/1 visto en clase (diapositivas 42 y 43 [Presentación](https://docs.google.com/presentation/d/17sB_GJVIu0vJYJXovaJNdLuBMENwHMW2L9Sa58P89Uw) ). \n",
    "\n",
    "Para la generación de las variables aleatorias con distribución exponencial debe usar el método de la inversión para variables aleatorias continuas usando generadores congruenciales mixtos. _Ayuda: El método de inversión para variables aleatorias continuas debe usar la función inversa $F^{-1}(p)$ de la distribución de probabilidad acumulada de la distribución exponencial en donde el valor $p$ proviene del generador congruencial mixto_.\n",
    "\n",
    "Para la generación de las variables aleatorias de los tiempos entre las llegadas de clientes (variable aleatoria $X$) debe generar variables aleatorias continuas de una distribución exponencial con $\\lambda = A$ a partir de un generador congruencial Turbo Pascal (i.e. $a = 134775813$, $c = 1$, $m=2^{32}$) y semilla $X_0 = 987654321$.\n",
    "\n",
    "Para la generación de las variables aleatorias de los tiempos de atención del servidor (variable aleatoria $Y$) debe generar variables aleatorias continuas de una distribución exponencial con $\\lambda = B$ a partir de un generador congruencial Microsoft Visual Basic (i.e. $a = 1140671485$, $c = 12820163$, $m=2^{24}$) y semilla $X_0 = 123987456$.\n",
    "\n",
    "Con su implementación para $A=3$ y $B=7$ por favor responda lo siguiente:\n",
    "\n",
    "    a. Tiempo promedio de los clientes en el sistema.\n",
    "    b. Tiempo promedio de los clientes en la cola.\n",
    "    c. Tiempo transcurrido desde $T$ hasta que el último cliente abandona el sistema.\n",
    "    d. Número máximo de clientes en el sistema durante la simulación."
   ]
  },
  {
   "cell_type": "code",
   "execution_count": 8,
   "metadata": {},
   "outputs": [],
   "source": [
    "%matplotlib inline \n",
    "\n",
    "import numpy as np\n",
    "import math\n",
    "import matplotlib.pyplot as plt\n",
    "\n",
    "Xant1 = 987654321\n",
    "Xant2 = 123987456\n",
    "\n",
    "M = 99999.0\n",
    "T = 100.0\n",
    "at = []\n",
    "an = []\n",
    "LLt = []\n",
    "St = []\n",
    "\n",
    "def gencongru1(): \n",
    "    global Xant1\n",
    "    a = 134775813\n",
    "    c = 1\n",
    "    m = 2**32\n",
    "    Xnext = (a * Xant1 + c) % m\n",
    "    Xant1 = Xnext\n",
    "    U = Xnext / m\n",
    "    return U\n",
    "\n",
    "def gencongru2():\n",
    "    global Xant2\n",
    "    a = 1140671485\n",
    "    c = 12820163\n",
    "    m = 2**24\n",
    "    Xnext = (a * Xant2 + c) % m\n",
    "    Xant2 = Xnext\n",
    "    U = Xnext / m\n",
    "    return U\n",
    "\n",
    "def GenerarX():\n",
    "    vlambda = 3\n",
    "    U = gencongru1()\n",
    "    X = -(math.log(1-U))/float(vlambda)\n",
    "    return X\n",
    "\n",
    "def GenerarY():\n",
    "    vlambda = 7\n",
    "    U = gencongru2()\n",
    "    Y = -(math.log(1-U))/float(vlambda)\n",
    "    return Y\n",
    "\n",
    "def Llegada(tsuc):\n",
    "    global n, NLL, NS, t, S, Serv, LL, at, an\n",
    "    t=tsuc\n",
    "    n = n + 1\n",
    "    LLt.append(t)\n",
    "    at.append(t)\n",
    "    an.append(n)\n",
    "    \n",
    "    NLL = NLL + 1\n",
    "    LL.append(t)\n",
    "    \n",
    "    X = GenerarX()\n",
    "    \n",
    "    if (t+X) < T:\n",
    "        TSuc['tLL'] = t + X\n",
    "    if n==1:\n",
    "        Y = GenerarY()\n",
    "        TSuc['tS'] = t + Y\n",
    "        #Serv[NS]=Y \n",
    "        Serv.append(Y)\n",
    "        \n",
    "def Servidor(tsuc):\n",
    "    global n, NLL, NS, t, S, Serv, LL, at, an\n",
    "    t = tsuc\n",
    "    n = n - 1\n",
    "    \n",
    "    St.append(t)\n",
    "    at.append(t)\n",
    "    an.append(n)\n",
    "    \n",
    "    NS = NS + 1\n",
    "    S.append(t)\n",
    "\n",
    "    if n>0:\n",
    "        Y = GenerarY()\n",
    "        TSuc['tS'] = t + Y\n",
    "        Serv.append(Y) \n",
    "    \n",
    "t = tsuc = NLL = NS = n = 0\n",
    "\n",
    "at.append(t)\n",
    "an.append(n)\n",
    "\n",
    "TSuc = {\"tLL\":M, \"tS\":M}\n",
    "\n",
    "LL = []\n",
    "S = []\n",
    "Serv = []\n",
    "LL.append(0.0)\n",
    "S.append(0.0)\n",
    "Serv.append(0.0)\n",
    "\n",
    "X = GenerarX()\n",
    "\n",
    "if X > T:\n",
    "    Tp = t_med_sistema = t_med_cola = 0.0\n",
    "    exit\n",
    "else:\n",
    "    Llegada(X)\n",
    "    while((TSuc['tLL'] != M)|(TSuc['tS']!=M)):\n",
    "        if TSuc['tLL'] < TSuc['tS']:\n",
    "            tsuc = TSuc['tLL']\n",
    "            TSuc['tLL'] = M\n",
    "            Llegada(tsuc)\n",
    "            \n",
    "        if TSuc['tS'] < TSuc['tLL']:\n",
    "            tsuc = TSuc['tS']\n",
    "            TSuc['tS'] = M\n",
    "            Servidor(tsuc)\n",
    "\n",
    "    Tp = max(0,t-T)\n",
    "    acumulo1 = acumulo2 = 0.0\n",
    "    ind = 0\n",
    "    \n",
    "    while ind < NLL:\n",
    "        acumulo1 = acumulo1 + S[ind] - LL[ind]\n",
    "        acumulo2 = acumulo2 + S[ind] - LL[ind] - Serv[ind]\n",
    "        ind = ind + 1\n",
    "    t_med_sistema = acumulo1/NLL\n",
    "    t_med_cola = acumulo2/NLL\n",
    "\n",
    "    exit"
   ]
  },
  {
   "cell_type": "code",
   "execution_count": 9,
   "metadata": {},
   "outputs": [
    {
     "data": {
      "image/png": "[encoded data removed]",
      "text/plain": [
       "<Figure size 432x288 with 1 Axes>"
      ]
     },
     "metadata": {
      "needs_background": "light"
     },
     "output_type": "display_data"
    },
    {
     "data": {
      "image/png": "[encoded data removed]",
      "text/plain": [
       "<Figure size 432x288 with 1 Axes>"
      ]
     },
     "metadata": {
      "needs_background": "light"
     },
     "output_type": "display_data"
    },
    {
     "data": {
      "image/png": "[encoded data removed]",
      "text/plain": [
       "<Figure size 432x288 with 1 Axes>"
      ]
     },
     "metadata": {
      "needs_background": "light"
     },
     "output_type": "display_data"
    },
    {
     "name": "stdout",
     "output_type": "stream",
     "text": [
      "Tiempo medio de los clientes en el sistema:  0.24960572486144766\n",
      "Tiempo medio de los clientes en la cola:  0.09585428053665423\n",
      "Tiempo transcurrido desde T hasta que el último cliente abandona el sistema:  0.224061806104487\n",
      "Número máximo de clientes en el sistema:  6\n",
      "Total de clientes que pasaron por el sistema:  284\n"
     ]
    }
   ],
   "source": [
    "at = np.array(at)\n",
    "an = np.array(an)\n",
    "\n",
    "LLt = np.array(LLt)\n",
    "St = np.array(St)\n",
    "\n",
    "tmp = np.zeros((len(LLt)))+1\n",
    "\n",
    "plt.plot(LLt, tmp, 'r.')\n",
    "plt.xlim(0, max(at))\n",
    "plt.show()\n",
    "\n",
    "tmp = np.zeros((len(St)))+1\n",
    "\n",
    "plt.plot(St, tmp, 'b.')\n",
    "plt.xlim(0, max(at))\n",
    "plt.show()\n",
    "\n",
    "plt.plot(at,an)\n",
    "plt.xlabel('tiempo (t)')\n",
    "plt.ylabel('numero de clientes en el sistema (n)')\n",
    "plt.show()\n",
    "\n",
    "print(\"Tiempo medio de los clientes en el sistema: \",t_med_sistema)\n",
    "print(\"Tiempo medio de los clientes en la cola: \",t_med_cola)\n",
    "print(\"Tiempo transcurrido desde T hasta que el último cliente abandona el sistema: \",Tp)\n",
    "print(\"Número máximo de clientes en el sistema: \",max(an))\n",
    "print(\"Total de clientes que pasaron por el sistema: \",NLL)"
   ]
  },
  {
   "cell_type": "code",
   "execution_count": null,
   "metadata": {},
   "outputs": [],
   "source": []
  }
 ],
 "metadata": {
  "kernelspec": {
   "display_name": "Python 3",
   "language": "python",
   "name": "python3"
  },
  "language_info": {
   "codemirror_mode": {
    "name": "ipython",
    "version": 3
   },
   "file_extension": ".py",
   "mimetype": "text/x-python",
   "name": "python",
   "nbconvert_exporter": "python",
   "pygments_lexer": "ipython3",
   "version": "3.6.5"
  }
 },
 "nbformat": 4,
 "nbformat_minor": 2
}
