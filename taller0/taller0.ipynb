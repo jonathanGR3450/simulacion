{
 "cells": [
  {
   "cell_type": "markdown",
   "metadata": {},
   "source": [
    "# metodo de montecarlo"
   ]
  },
  {
   "cell_type": "code",
   "execution_count": 23,
   "metadata": {},
   "outputs": [
    {
     "name": "stdout",
     "output_type": "stream",
     "text": [
      "Digita valor de n= 1000\n",
      "El valor por montecarlo es = 0.8838032434892608\n"
     ]
    }
   ],
   "source": [
    "from random import uniform\n",
    "import numpy as np\n",
    "\n",
    "def Montecarlo(n):\n",
    "    suma = 0\n",
    "    for i in range(n):\n",
    "        random = uniform(0,1)\n",
    "        x = 2 * random\n",
    "        y = 2 * np.exp(-(x*x))\n",
    "        suma += y\n",
    "    return suma/n\n",
    "n = int(input(\"Digita valor de n= \"))\n",
    "montecarlo = Montecarlo(n)\n",
    "print(\"El valor por montecarlo es = {}\".format(montecarlo))"
   ]
  },
  {
   "cell_type": "markdown",
   "metadata": {},
   "source": [
    "# metodo del trapecio"
   ]
  },
  {
   "cell_type": "code",
   "execution_count": 24,
   "metadata": {},
   "outputs": [
    {
     "name": "stdout",
     "output_type": "stream",
     "text": [
      "Digita el valor del paso= 1\n",
      "El valor por el metodo de trapecio es= 0.8770372606158094\n"
     ]
    }
   ],
   "source": [
    "def Trapecio(paso):\n",
    "    x1 = 0\n",
    "    x2 = paso\n",
    "    suma = 0\n",
    "    while (x2 <= 2):\n",
    "        fx2 = np.exp(-x2*x2)\n",
    "        tria = (np.exp(-x1*x1) - fx2) * paso/2\n",
    "        suma += tria+fx2 * paso\n",
    "        x1 = x2\n",
    "        x2 += paso\n",
    "    return suma\n",
    "paso = float(input(\"Digita el valor del paso= \"))\n",
    "trapecio = Trapecio(paso)\n",
    "print(\"El valor por el metodo de trapecio es= {}\".format(trapecio))"
   ]
  },
  {
   "cell_type": "markdown",
   "metadata": {},
   "source": [
    "# comparacion"
   ]
  },
  {
   "cell_type": "markdown",
   "metadata": {},
   "source": [
    "usamos el software wolframe para calcular el valor de la integral, la cual es 0.882081, comparamos el valor de cada metodo."
   ]
  },
  {
   "cell_type": "code",
   "execution_count": 25,
   "metadata": {},
   "outputs": [
    {
     "name": "stdout",
     "output_type": "stream",
     "text": [
      "el metodo del trapecio se aproxima mas al valor real\n"
     ]
    }
   ],
   "source": [
    "valor=0.882081\n",
    "def comparar(montecarlo, trapecio):\n",
    "    if (montecarlo-valor)<(trapecio-valor):\n",
    "        print(\"el metodo montecarlo se aproxima mas al valor real\")\n",
    "    else:\n",
    "        print(\"el metodo del trapecio se aproxima mas al valor real\")\n",
    "\n",
    "comparar(montecarlo, trapecio)\n",
    "    "
   ]
  }
 ],
 "metadata": {
  "kernelspec": {
   "display_name": "Python 3",
   "language": "python",
   "name": "python3"
  },
  "language_info": {
   "codemirror_mode": {
    "name": "ipython",
    "version": 3
   },
   "file_extension": ".py",
   "mimetype": "text/x-python",
   "name": "python",
   "nbconvert_exporter": "python",
   "pygments_lexer": "ipython3",
   "version": "3.6.5"
  },
  "pycharm": {
   "stem_cell": {
    "cell_type": "raw",
    "metadata": {
     "collapsed": false
    },
    "source": [
     "print(\"lol\")"
    ]
   }
  }
 },
 "nbformat": 4,
 "nbformat_minor": 1
}
