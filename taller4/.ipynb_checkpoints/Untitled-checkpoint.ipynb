{
 "cells": [
  {
   "cell_type": "markdown",
   "metadata": {},
   "source": [
    "## Variables necesarias"
   ]
  },
  {
   "cell_type": "code",
   "execution_count": 1,
   "metadata": {},
   "outputs": [],
   "source": [
    "import math\n",
    "import random\n",
    "\n",
    "T = int(1e2)\n",
    "t = t_suc = N_LL = N_S = n = 0\n",
    "T_LL = T_S = math.inf\n",
    "\n",
    "LL = []\n",
    "S = []\n",
    "Serv = []\n",
    "VA = []\n",
    "\n",
    "X = 0\n",
    "Y = 0\n",
    "A = 3\n",
    "B = 7\n",
    "\n",
    "def exponencial(media):\n",
    "    U = random.random()\n",
    "    X = (math.log(U)/media)*-1\n",
    "    return X"
   ]
  },
  {
   "cell_type": "markdown",
   "metadata": {},
   "source": [
    "## Función llegada"
   ]
  },
  {
   "cell_type": "code",
   "execution_count": 2,
   "metadata": {},
   "outputs": [],
   "source": [
    "def llegada(t_suc):\n",
    "    global t, n, N_LL, LL, X, Y, Serv, T_S, T_LL, VA, A, B, T\n",
    "    t = t_suc\n",
    "    n += 1\n",
    "    N_LL += 1\n",
    "    LL.append(t)\n",
    "    X = exponencial(1/A)\n",
    "    VA.append(X)\n",
    "    if (t + X) < T:\n",
    "        T_LL = t + X\n",
    "    if n == 1:\n",
    "        Y = exponencial(1/B)\n",
    "        T_S = t + Y\n",
    "        Serv.append(Y)"
   ]
  },
  {
   "cell_type": "markdown",
   "metadata": {},
   "source": [
    "## funcion servidor"
   ]
  },
  {
   "cell_type": "code",
   "execution_count": 3,
   "metadata": {},
   "outputs": [],
   "source": [
    "def servidor(t_suc):\n",
    "    global t, n, S, N_S, Serv, X, Y, T_S, A, B\n",
    "    t = t_suc\n",
    "    n -= 1\n",
    "    N_S = N_S + 1\n",
    "    S.append(t)\n",
    "    if n > 0:\n",
    "        Y = exponencial(1/B)\n",
    "        T_S = t + Y\n",
    "        Serv.append(Y)"
   ]
  },
  {
   "cell_type": "markdown",
   "metadata": {},
   "source": [
    "## cola G/G/1"
   ]
  },
  {
   "cell_type": "code",
   "execution_count": 4,
   "metadata": {},
   "outputs": [],
   "source": [
    "\n",
    "X = exponencial(1/A)\n",
    "\n",
    "if(X > T):\n",
    "    T_p = t_med_sistema = t_med_cola = 0\n",
    "    exit(0)\n",
    "else:\n",
    "    llegada(X)\n",
    "    while(T_LL != math.inf or T_S != math.inf):\n",
    "        if(T_LL < T_S):\n",
    "            t_suc = T_LL\n",
    "            T_LL = math.inf\n",
    "            llegada(t_suc)\n",
    "        if(T_S < T_LL):\n",
    "            t_suc = T_S\n",
    "            T_S = math.inf\n",
    "            servidor(t_suc)\n",
    "\n",
    "T_p = max(0, t - T)\n",
    "cum_1 = cum_2 = 0\n",
    "ind = 0\n",
    "\n",
    "while ind < N_LL:\n",
    "    cum_1 += S[ind] - LL[ind]\n",
    "    cum_2 += S[ind] - LL[ind] - Serv[ind]\n",
    "    ind += 1\n",
    "\n",
    "t_med_sistema = cum_1 / N_LL\n",
    "t_med_cola = cum_2 / N_LL"
   ]
  },
  {
   "cell_type": "markdown",
   "metadata": {},
   "source": [
    "## Tiempos"
   ]
  },
  {
   "cell_type": "code",
   "execution_count": 5,
   "metadata": {},
   "outputs": [
    {
     "name": "stdout",
     "output_type": "stream",
     "text": [
      "Clientes atendidos: 44\n",
      "Tiempo medio en la cola: 107.56232515244156\n",
      "Tiempo medio del sistema: 114.54704107301413\n"
     ]
    }
   ],
   "source": [
    "print(\"Clientes atendidos:\", N_S)\n",
    "print(\"Tiempo medio en la cola:\", t_med_cola)\n",
    "print(\"Tiempo medio del sistema:\", t_med_sistema)"
   ]
  },
  {
   "cell_type": "code",
   "execution_count": null,
   "metadata": {},
   "outputs": [],
   "source": []
  }
 ],
 "metadata": {
  "kernelspec": {
   "display_name": "Python 3",
   "language": "python",
   "name": "python3"
  },
  "language_info": {
   "codemirror_mode": {
    "name": "ipython",
    "version": 3
   },
   "file_extension": ".py",
   "mimetype": "text/x-python",
   "name": "python",
   "nbconvert_exporter": "python",
   "pygments_lexer": "ipython3",
   "version": "3.6.5"
  }
 },
 "nbformat": 4,
 "nbformat_minor": 2
}
