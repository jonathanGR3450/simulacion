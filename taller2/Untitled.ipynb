{
 "cells": [
  {
   "cell_type": "markdown",
   "metadata": {},
   "source": [
    "# Taller 2"
   ]
  },
  {
   "cell_type": "markdown",
   "metadata": {},
   "source": [
    "## Transformada Inversa"
   ]
  },
  {
   "cell_type": "code",
   "execution_count": 2,
   "metadata": {},
   "outputs": [
    {
     "name": "stdout",
     "output_type": "stream",
     "text": [
      "Por favor ingresa el numero de variables100\n",
      "Digita valor de p_0=1\n",
      "('X_1', 0.3405639106199003)\n",
      "('X_1', 0.4881250076750583)\n",
      "('X_1', 0.8891451578255668)\n",
      "('X_1', 0.615021644273029)\n",
      "('X_1', 0.9081797497176043)\n",
      "('X_1', 0.5310958591254811)\n",
      "('X_1', 0.06254460722292143)\n",
      "('X_1', 0.35531010909018634)\n",
      "('X_1', 0.5153535302526309)\n",
      "('X_1', 0.2920133525474271)\n",
      "('X_1', 0.47155074060958835)\n",
      "('X_1', 0.3378275073599093)\n",
      "('X_1', 0.8224646150916921)\n",
      "('X_1', 0.88655756834451)\n",
      "('X_1', 0.7261793515833906)\n",
      "('X_1', 0.2237661346494868)\n",
      "('X_1', 0.3034785065184892)\n",
      "('X_1', 0.30840025647694624)\n",
      "('X_1', 0.5613913638036169)\n",
      "('X_1', 0.9215012777458964)\n",
      "('X_1', 0.731787323405526)\n",
      "('X_1', 0.761163623606523)\n",
      "('X_1', 0.7227946535574881)\n",
      "('X_1', 0.240308183420764)\n",
      "('X_1', 0.45797082257395894)\n",
      "('X_1', 0.4970838216191561)\n",
      "('X_1', 0.09854701512361774)\n",
      "('X_1', 0.8897901200960655)\n",
      "('X_1', 0.5383245678534516)\n",
      "('X_1', 0.7451066292251075)\n",
      "('X_1', 0.8586561766655443)\n",
      "('X_1', 0.35382271220795025)\n",
      "('X_1', 0.507956447161638)\n",
      "('X_1', 0.15207162068572)\n",
      "('X_1', 0.003139114814647348)\n",
      "('X_1', 0.20774434773997374)\n",
      "('X_1', 0.42300277197946434)\n",
      "('X_1', 0.3727119676850015)\n",
      "('X_1', 0.7554850956028063)\n",
      "('X_1', 0.5360034411529906)\n",
      "('X_1', 0.938808772301489)\n",
      "('X_1', 0.7199453807432301)\n",
      "('X_1', 0.361542443340391)\n",
      "('X_1', 0.8320765944919504)\n",
      "('X_1', 0.9795087560742839)\n",
      "('X_1', 0.9694296497054884)\n",
      "('X_1', 0.06498952254111356)\n",
      "('X_1', 0.6653798153144711)\n",
      "('X_1', 0.26432213183673514)\n",
      "('X_1', 0.9942506922310581)\n",
      "('X_1', 0.12786016363434627)\n",
      "('X_1', 0.29968119977219587)\n",
      "('X_1', 0.1547140534120941)\n",
      "('X_1', 0.19009208175897963)\n",
      "('X_1', 0.10295664180957742)\n",
      "('X_1', 0.16678382524716495)\n",
      "('X_1', 0.34795534528043137)\n",
      "('X_1', 0.2558740592787201)\n",
      "('X_1', 0.6788026808769586)\n",
      "('X_1', 0.657903257018118)\n",
      "('X_1', 0.6403925979909086)\n",
      "('X_1', 0.10850300834818771)\n",
      "('X_1', 0.44611460258903646)\n",
      "('X_1', 0.8412456576676458)\n",
      "('X_1', 0.5168635204471771)\n",
      "('X_1', 0.9253351007788286)\n",
      "('X_1', 0.044621188490702846)\n",
      "('X_1', 0.1873949626307515)\n",
      "('X_1', 0.3367840274351698)\n",
      "('X_1', 0.26020356033457426)\n",
      "('X_1', 0.12761744266387653)\n",
      "('X_1', 0.6129552383716463)\n",
      "('X_1', 0.15891821403613948)\n",
      "('X_1', 0.6928590869565114)\n",
      "('X_1', 0.5489532020203498)\n",
      "('X_1', 0.9505942521359347)\n",
      "('X_1', 0.752813955935537)\n",
      "('X_1', 0.7045226671481944)\n",
      "('X_1', 0.6623555312709334)\n",
      "('X_1', 0.6284273662301493)\n",
      "('X_1', 0.1838235706215463)\n",
      "('X_1', 0.34304638280752475)\n",
      "('X_1', 0.4466818113543002)\n",
      "('X_1', 0.15797534117897516)\n",
      "('X_1', 0.9775838354191562)\n",
      "('X_1', 0.4268800114039035)\n",
      "('X_1', 0.5947261035181515)\n",
      "('X_1', 0.40184425037702187)\n",
      "('X_1', 0.40203098016612693)\n",
      "('X_1', 0.7332644698766546)\n",
      "('X_1', 0.4595652998484)\n",
      "('X_1', 0.9963840600237173)\n",
      "('X_1', 0.9548908876020562)\n",
      "('X_1', 0.32043878188386254)\n",
      "('X_1', 0.35197701301866546)\n",
      "('X_1', 0.12600539510660347)\n",
      "('X_1', 0.2284689598995049)\n",
      "('X_1', 0.37811997210581416)\n",
      "('X_1', 0.24527532948474295)\n",
      "('X_1', 0.15529321525412765)\n"
     ]
    }
   ],
   "source": [
    "import numpy as np\n",
    "from random import random\n",
    "\n",
    "def float_request():\n",
    "    lista = []\n",
    "    i = 0\n",
    "    prob = 0\n",
    "    num_var = int(input(\"Por favor ingresa el numero de variables\"))\n",
    "    while True:\n",
    "        aux=float(input(\"Digita valor de p_{}=\".format(i)))\n",
    "        lista.append(aux)\n",
    "        prob += aux\n",
    "        if prob >= 0.99 and prob <=1.01:\n",
    "            break\n",
    "        print(\"Te queda %.1f\" %(1-prob))\n",
    "        i += 1\n",
    "        aux = 0\n",
    "    return inverse_transform(lista, num_var)\n",
    "\n",
    "\n",
    "def inverse_transform(lista, num_var):\n",
    "    suma = 0\n",
    "    j=0\n",
    "    lista_pro = []\n",
    "    x=0\n",
    "    rand = random()\n",
    "    while x<num_var:\n",
    "        if rand < suma+lista[j]:\n",
    "            lista_pro.append((\"X_{}\".format(j+1), rand))\n",
    "            j=0\n",
    "            rand = random()\n",
    "            suma = 0\n",
    "            x+=1\n",
    "        else:\n",
    "            suma = suma+lista[j]\n",
    "            j += 1\n",
    "    return lista_pro\n",
    "for i in float_request():\n",
    "    print(i)"
   ]
  },
  {
   "cell_type": "markdown",
   "metadata": {},
   "source": [
    "## Poisson"
   ]
  },
  {
   "cell_type": "code",
   "execution_count": 5,
   "metadata": {},
   "outputs": [
    {
     "name": "stdout",
     "output_type": "stream",
     "text": [
      "Digita el lambda:20\n",
      "Ingrese el numero de variables a generar15\n",
      "18\n",
      "25\n",
      "15\n",
      "12\n",
      "31\n",
      "19\n",
      "21\n",
      "21\n",
      "21\n",
      "21\n",
      "6\n",
      "22\n",
      "26\n",
      "24\n",
      "17\n"
     ]
    }
   ],
   "source": [
    "def poisson(cons_lambda):\n",
    "    U = random()\n",
    "    i = 0\n",
    "    p = np.exp(-cons_lambda)\n",
    "    F = p\n",
    "    while True:\n",
    "        if U < F:\n",
    "            break\n",
    "        else:\n",
    "            p = (cons_lambda * p) / (i + 1)\n",
    "            F = F + p\n",
    "            i = i + 1\n",
    "    return i\n",
    "cons_lambda =(float(input(\"Digita el lambda:\")))\n",
    "for _ in range(int(input(\"Ingrese el numero de variables a generar\"))):\n",
    "    print(poisson(cons_lambda))"
   ]
  },
  {
   "cell_type": "markdown",
   "metadata": {},
   "source": [
    "## Binomial"
   ]
  },
  {
   "cell_type": "code",
   "execution_count": 6,
   "metadata": {},
   "outputs": [
    {
     "name": "stdout",
     "output_type": "stream",
     "text": [
      "Ingrese el numero de ensayos10\n",
      "INgrese la probabilidad de exito0.8\n",
      "ingrese el numero de variables a generar10\n",
      "8\n",
      "10\n",
      "10\n",
      "8\n",
      "7\n",
      "8\n",
      "6\n",
      "9\n",
      "9\n",
      "3\n"
     ]
    }
   ],
   "source": [
    "def binomial(n, p):\n",
    "    U = random()\n",
    "    c = p / (1 - p)\n",
    "    i = 0\n",
    "    pr = (1 - p) ** n\n",
    "    F = pr\n",
    "    while True:\n",
    "        if U < F:\n",
    "            break\n",
    "        else:\n",
    "            pr = (c * (n - i) / (i + 1)) * pr\n",
    "            F = F + pr\n",
    "            i = i + 1\n",
    "    return i\n",
    "n = int(input(\"Ingrese el numero de ensayos\"))\n",
    "p = float(input(\"INgrese la probabilidad de exito\"))\n",
    "for i in range(int(input(\"ingrese el numero de variables a generar\"))):\n",
    "    print(binomial(n,p))"
   ]
  },
  {
   "cell_type": "markdown",
   "metadata": {},
   "source": [
    "## Aceptacion y rechazo"
   ]
  },
  {
   "cell_type": "code",
   "execution_count": 7,
   "metadata": {},
   "outputs": [
    {
     "name": "stdout",
     "output_type": "stream",
     "text": [
      "('X_1', 1)\n",
      "('X_2', 1)\n",
      "('X_3', 1)\n",
      "('X_4', 1)\n",
      "('X_5', 1)\n"
     ]
    }
   ],
   "source": [
    "def calculate_c(list_p, list_q):\n",
    "    division_list = []\n",
    "    for i in range(len(list_p)):\n",
    "        division_list.append(list_p[i] / list_q[i])\n",
    "    return max(division_list)\n",
    "\n",
    "\n",
    "def operate_value(value, multiplier):\n",
    "    return int(multiplier * value)\n",
    "    \n",
    "\n",
    "def admit_or_refuse(list_p, list_q):\n",
    "    if(len(list_p) != len(list_q)):\n",
    "        raise Exception(\"El tamaño en las dos listas deberia ser igual\")\n",
    "    result = []\n",
    "    for i in range(len(list_p)):\n",
    "        simulated_y_value = 1\n",
    "        U1 = 0\n",
    "        p_y = 0\n",
    "        q_y = 1\n",
    "        c = 1\n",
    "        while(U1 > p_y / (c * q_y)):\n",
    "            simulated_y_value = operate_value(list_q[i], len(list_p))\n",
    "            U1 = random()\n",
    "            p_y = list_p[simulated_y_value]\n",
    "            q_y = list_q[simulated_y_value]\n",
    "            c = calculate_c(list_p, list_q)\n",
    "        \n",
    "        key = \"X_{}\".format(i + 1)\n",
    "        result.append((key, simulated_y_value))\n",
    "    return result \n",
    "\n",
    "p_j = [0.1, 0.1, 0.1, 0.1, 0.6]\n",
    "q_j = [0.4, 0.2, 0.1, 0.1, 0.2]\n",
    "for i in admit_or_refuse(p_j, q_j):\n",
    "    print(i)\n"
   ]
  },
  {
   "cell_type": "markdown",
   "metadata": {},
   "source": [
    "## Composición"
   ]
  },
  {
   "cell_type": "code",
   "execution_count": 8,
   "metadata": {},
   "outputs": [
    {
     "name": "stdout",
     "output_type": "stream",
     "text": [
      "ingrese el numero de variables a generar10\n",
      "[3]\n",
      "[2]\n",
      "[5]\n",
      "[8]\n",
      "[9]\n",
      "[8]\n",
      "[6]\n",
      "[6]\n",
      "[1]\n",
      "[10]\n"
     ]
    }
   ],
   "source": [
    "def composition():\n",
    "    U_1 = random()\n",
    "    U_2 = random()\n",
    "    \n",
    "    result = []\n",
    "    if(U_1 < 0.5):\n",
    "        result.append((int(10 * U_2) + 1))\n",
    "    else:\n",
    "        result.append((int(5 * U_2) + 6))\n",
    "    return result\n",
    "for i in range(int(input(\"ingrese el numero de variables a generar\"))):\n",
    "    print(composition())"
   ]
  },
  {
   "cell_type": "markdown",
   "metadata": {},
   "source": [
    "# Ejerecicios"
   ]
  },
  {
   "cell_type": "markdown",
   "metadata": {},
   "source": [
    "## 1 punto"
   ]
  },
  {
   "cell_type": "code",
   "execution_count": 9,
   "metadata": {},
   "outputs": [
    {
     "name": "stdout",
     "output_type": "stream",
     "text": [
      "Veces que se genera 1 con n = 100: 0.29\n",
      "Veces que se genera 1 con n = 1000: 0.317\n",
      "Veces que se genera 1 con n = 10000: 0.3315\n"
     ]
    }
   ],
   "source": [
    "listapo = [1/3, 2/3]\n",
    "def inverse_transform_1(lista, num_var):\n",
    "    suma = 0\n",
    "    j=0\n",
    "    lista_pro = []\n",
    "    x=0\n",
    "    rand = random()\n",
    "    while x<num_var:\n",
    "        if rand < suma+lista[j]:\n",
    "            lista_pro.append((j+1))\n",
    "            j=0\n",
    "            rand = random()\n",
    "            suma = 0\n",
    "            x+=1\n",
    "        else:\n",
    "            suma = suma+lista[j]\n",
    "            j += 1\n",
    "    return lista_pro\n",
    "\n",
    "for j in range(2,5):\n",
    "    aux=0\n",
    "    for i in inverse_transform_1(listapo, 10**j):\n",
    "        if i==1 :\n",
    "            aux+=1\n",
    "    print(\"Veces que se genera 1 con n = {}: {}\".format(10**(j), aux / 10**(j)))"
   ]
  },
  {
   "cell_type": "markdown",
   "metadata": {},
   "source": [
    "## 3 punto"
   ]
  },
  {
   "cell_type": "code",
   "execution_count": 10,
   "metadata": {},
   "outputs": [
    {
     "name": "stdout",
     "output_type": "stream",
     "text": [
      "4\n",
      "2\n",
      "3\n",
      "1\n",
      "3\n",
      "3\n",
      "2\n",
      "2\n",
      "3\n",
      "4\n"
     ]
    }
   ],
   "source": [
    "lista3 = [.3, .2, .35, .15]\n",
    "for i in inverse_transform_1(lista3, 10):\n",
    "    print(i)"
   ]
  },
  {
   "cell_type": "markdown",
   "metadata": {},
   "source": [
    "## 7 punto"
   ]
  },
  {
   "cell_type": "code",
   "execution_count": 16,
   "metadata": {},
   "outputs": [],
   "source": [
    "\n",
    "listdados = [1 / 36, 2 / 36, 3 / 36, 4 / 36, 5 / 36, 6 / 36, 5 / 36, 4 / 36, 3 / 36, 2 / 36, 1 / 36]"
   ]
  },
  {
   "cell_type": "code",
   "execution_count": null,
   "metadata": {},
   "outputs": [],
   "source": []
  }
 ],
 "metadata": {
  "kernelspec": {
   "display_name": "Python 3",
   "language": "python",
   "name": "python3"
  },
  "language_info": {
   "codemirror_mode": {
    "name": "ipython",
    "version": 3
   },
   "file_extension": ".py",
   "mimetype": "text/x-python",
   "name": "python",
   "nbconvert_exporter": "python",
   "pygments_lexer": "ipython3",
   "version": "3.6.5"
  }
 },
 "nbformat": 4,
 "nbformat_minor": 2
}
