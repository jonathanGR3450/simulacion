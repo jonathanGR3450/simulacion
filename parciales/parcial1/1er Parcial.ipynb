{
 "cells": [
  {
   "cell_type": "markdown",
   "metadata": {},
   "source": [
    "## 1er Parcial - Simulación Computacional 2019-II"
   ]
  },
  {
   "cell_type": "markdown",
   "metadata": {},
   "source": [
    "**1)** Para los siguientes generadores congruenciales mixtos encuentre $u_1,...,u_{100}$ y el tamaño del ciclo (si lo tiene)\n",
    "\n",
    "**(a)** $x_0=67, x_n = (5x_{n-1}+7) \\mod 200$\n",
    "\n",
    "**(b)** $x_0=123, x_n = (17x_{n-1}+3) \\mod 16$\n",
    "\n",
    "**(c)** $x_0=7, x_n = (5x_{n-1}+3) \\mod 33$"
   ]
  },
  {
   "cell_type": "code",
   "execution_count": null,
   "metadata": {},
   "outputs": [],
   "source": [
    "import numpy as np\n",
    "import math\n",
    "from sympy import *\n",
    "import time\n",
    "import scipy as sp\n",
    "from random import random\n",
    "\n"
   ]
  },
  {
   "cell_type": "markdown",
   "metadata": {},
   "source": [
    "**2)** Para las siguientes integrales, use simulación con el generado congruencial mixto $x_0=4593, x_n = (25214903917 x_{n-1}+11) \\mod 2^{48}-1$ para aproximar el valor de las integrales para $N=100, 1000, 10000$, y compare su estimación con el valor real:\n",
    "\n",
    "**(a)** $\\int_{0}^{1}e ^{sin(x)}dx$\n",
    "\n",
    "**(b)** $\\int_{-3}^{3}e^{sin(x)-x^{3}}dx$\n",
    "\n",
    "**(c)** $\\int_{0}^{1}(\\sin(1+x^{2}))^{3/2}dx$"
   ]
  },
  {
   "cell_type": "markdown",
   "metadata": {},
   "source": [
    "**3)** Dados los siguientes valores de la distribución de probabilidad discreta de la variable aleatoria $X$ de un dado de 13 lados: $X = {1,2,3,4,5,6,7,8,9,10,11,12,13}$, $p(X) = {0.05,0.07,0.2,0.25,0.1,0.09,0.05,0.05,0.05,0.04,0.02,0.02,0.01}$, ¿Qué valores retornaría el generador de variables aleatorias por el método de la inversión si los números aleatorios generados son: $U = {0.1573, 0.9454, 0.8211, 0.6996, 0.0318, 0.1708, 0.6865, 0.9102, 0.2579, 0.6344}$?"
   ]
  },
  {
   "cell_type": "markdown",
   "metadata": {},
   "source": [
    "**4)** Responda las siguientes preguntas:\n",
    "\n",
    "**(a)** Nombre dos distribuciones de probabilidad discreta.\n",
    "\n",
    "**(b)** ¿Cuáles son los parámetros de la distribución de probabilidad normal?\n",
    "\n",
    "**(c)** ¿Cuál es el valor esperado de una distribución de probabilidad uniforme continua que esta definida en el intervalo de 3 a 10? \n"
   ]
  },
  {
   "cell_type": "markdown",
   "metadata": {},
   "source": [
    "**5)** Calcule el estadístico $\\chi^2$ para los siguientes generadores congruenciales mixtos a partir de la generación de los valores pseudoaleatorios uniformes $u_1,...,u_{1000}$, y diga si cumple con criterio de uniformidad o no.\n",
    "\n",
    "**(a)** $x_0=1791, x_n = (65539x_{n-1}) \\mod {2^31}$\n",
    "\n",
    "**(a)** $x_0=6773, x_n = (75x_{n-1}) \\mod {2^16 + 1}$\n",
    "\n",
    "**(a)** $x_0=179, x_n = (5x_{n-1}+7) \\mod 200$"
   ]
  },
  {
   "cell_type": "code",
   "execution_count": null,
   "metadata": {},
   "outputs": [],
   "source": []
  }
 ],
 "metadata": {
  "kernelspec": {
   "display_name": "Python 3",
   "language": "python",
   "name": "python3"
  },
  "language_info": {
   "codemirror_mode": {
    "name": "ipython",
    "version": 3
   },
   "file_extension": ".py",
   "mimetype": "text/x-python",
   "name": "python",
   "nbconvert_exporter": "python",
   "pygments_lexer": "ipython3",
   "version": "3.6.5"
  }
 },
 "nbformat": 4,
 "nbformat_minor": 2
}
