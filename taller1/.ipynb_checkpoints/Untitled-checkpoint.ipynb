{
 "cells": [
  {
   "cell_type": "markdown",
   "metadata": {},
   "source": [
    "# Funciones auxiliares"
   ]
  },
  {
   "cell_type": "code",
   "execution_count": 1,
   "metadata": {},
   "outputs": [],
   "source": [
    "def modDos(num):\n",
    "    if num%2==0:\n",
    "        return True\n",
    "    else:\n",
    "        return False\n",
    "\n",
    "\n",
    "def lenght(num):\n",
    "    return len(str(num))\n",
    "\n",
    "\n",
    "def addZeros(num, size):\n",
    "    \n",
    "    if len(str(num)) > size :\n",
    "        raise Exception(\"Sobrepasado\")\n",
    "    elif num == size :\n",
    "        return str(num)\n",
    "    else:\n",
    "        return str(num).zfill(size)\n",
    "\n",
    "\n",
    "def numMiddle(num):\n",
    "    middle = int(int(lenght(num))/4)\n",
    "    return num[middle: -middle]\n",
    "\n",
    "\n",
    "def numDecimal(num):\n",
    "    return \"0.{}\".format(num)"
   ]
  },
  {
   "cell_type": "markdown",
   "metadata": {},
   "source": [
    "# Metodo MidSquare"
   ]
  },
  {
   "cell_type": "code",
   "execution_count": 3,
   "metadata": {},
   "outputs": [
    {
     "name": "stdout",
     "output_type": "stream",
     "text": [
      "Digita el valor de x0=65\n",
      "Digital el valor de nùmeros a generar=10\n",
      "22\n",
      "48\n",
      "30\n",
      "90\n",
      "10\n",
      "10\n",
      "10\n",
      "10\n",
      "10\n",
      "10\n",
      "u_1 = 0.22\n",
      "u_2 = 0.48\n",
      "u_3 = 0.30\n",
      "u_4 = 0.90\n",
      "u_5 = 0.10\n",
      "u_6 = 0.10\n",
      "u_7 = 0.10\n",
      "u_8 = 0.10\n",
      "u_9 = 0.10\n",
      "u_10 = 0.10\n"
     ]
    }
   ],
   "source": [
    "def GNMidSqueare(x0, lim):\n",
    "    list = []\n",
    "    if modDos(lenght(str(x0))):\n",
    "        x2 = x0\n",
    "        for i in range(lim):\n",
    "            x1 = x2 ** 2\n",
    "            x1 = addZeros(x1, lenght(x0) * 2)\n",
    "            x1 = numMiddle(x1)\n",
    "            if x1 != '':\n",
    "                x2 = int(x1)\n",
    "                print(x2)\n",
    "                list.append(numDecimal(x2))\n",
    "            else:\n",
    "                print(\"Creo que quedamos en 0\")\n",
    "                break\n",
    "    else:\n",
    "        print(\"Por favor ingresa un numero de 2*n cifras\")\n",
    "    return list\n",
    "\n",
    "\n",
    "x0 = int(input(\"Digita el valor de x0=\"))\n",
    "lim = int(input(\"Digital el valor de nùmeros a generar=\"))\n",
    "listMid = GNMidSqueare(x0, lim)\n",
    "for i in range(len(listMid)):\n",
    "    print(\"u_{} = {}\".format(i+1, listMid[i]))"
   ]
  },
  {
   "cell_type": "markdown",
   "metadata": {},
   "source": [
    "# Metodo Congruencial Mixto"
   ]
  },
  {
   "cell_type": "code",
   "execution_count": 4,
   "metadata": {},
   "outputs": [
    {
     "name": "stdout",
     "output_type": "stream",
     "text": [
      "Digita el valor de x0=65\n",
      "Digita el valor de a=2\n",
      "Digita el valor de m=5\n",
      "Digita el valor de c=4\n",
      "Digital el valor de nùmeros a generar=10\n",
      "u_1 = 0.8\n",
      "u_2 = 0.4\n",
      "u_3 = 0.6\n",
      "u_4 = 0.0\n",
      "u_5 = 0.8\n",
      "u_6 = 0.4\n",
      "u_7 = 0.6\n",
      "u_8 = 0.0\n",
      "u_9 = 0.8\n",
      "u_10 = 0.4\n"
     ]
    }
   ],
   "source": [
    "def GNCongruMix(x0, a, m, c, lim):\n",
    "    xn = x0\n",
    "    list = []\n",
    "    for i in range(lim):\n",
    "        xn = (a * xn + c) % m\n",
    "        un = xn / m\n",
    "        list.append(un)\n",
    "        #print(\"u_{} = {}\".format(i+1, un))\n",
    "    return list\n",
    "\n",
    "\n",
    "x0 = int(input(\"Digita el valor de x0=\"))\n",
    "a = int(input(\"Digita el valor de a=\"))\n",
    "m = int(input(\"Digita el valor de m=\"))\n",
    "c = int(input(\"Digita el valor de c=\"))\n",
    "lim = int(input(\"Digital el valor de nùmeros a generar=\"))\n",
    "list = GNCongruMix(x0, a, m, c, lim)\n",
    "for i in range(len(list)):\n",
    "    print(\"u_{} = {}\".format(i+1, list[i]))"
   ]
  },
  {
   "cell_type": "markdown",
   "metadata": {},
   "source": [
    "# Ciclo del metodo"
   ]
  },
  {
   "cell_type": "code",
   "execution_count": 5,
   "metadata": {},
   "outputs": [],
   "source": [
    "def ciclos(lista):\n",
    "    xf=0\n",
    "    xi=0\n",
    "    for i in range(len(lista)):\n",
    "        for j in range(i+1, len(lista)):\n",
    "            if lista[i]==lista[j]:\n",
    "                return str(j-i)\n",
    "    return \"No esta repetido en este momento\""
   ]
  },
  {
   "cell_type": "markdown",
   "metadata": {},
   "source": [
    "## Calculando el periodo a MidSquare"
   ]
  },
  {
   "cell_type": "code",
   "execution_count": 6,
   "metadata": {},
   "outputs": [
    {
     "name": "stdout",
     "output_type": "stream",
     "text": [
      "El periodo es= 1\n"
     ]
    }
   ],
   "source": [
    "print(\"El periodo es= {}\".format(ciclos(listMid)))"
   ]
  },
  {
   "cell_type": "markdown",
   "metadata": {},
   "source": [
    "## Calculando el periodo a Congruencial"
   ]
  },
  {
   "cell_type": "code",
   "execution_count": 7,
   "metadata": {},
   "outputs": [
    {
     "name": "stdout",
     "output_type": "stream",
     "text": [
      "El periodo es= 4\n"
     ]
    }
   ],
   "source": [
    "print(\"El periodo es= {}\".format(ciclos(list)))"
   ]
  },
  {
   "cell_type": "code",
   "execution_count": null,
   "metadata": {},
   "outputs": [],
   "source": []
  }
 ],
 "metadata": {
  "kernelspec": {
   "display_name": "Python 3",
   "language": "python",
   "name": "python3"
  },
  "language_info": {
   "codemirror_mode": {
    "name": "ipython",
    "version": 3
   },
   "file_extension": ".py",
   "mimetype": "text/x-python",
   "name": "python",
   "nbconvert_exporter": "python",
   "pygments_lexer": "ipython3",
   "version": "3.6.5"
  }
 },
 "nbformat": 4,
 "nbformat_minor": 2
}
